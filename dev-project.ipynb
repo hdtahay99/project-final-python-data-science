{
 "cells": [
  {
   "cell_type": "markdown",
   "id": "automotive-traveler",
   "metadata": {},
   "source": [
    "# Proyecto Final de Ciencia de Datos en Python"
   ]
  },
  {
   "cell_type": "code",
   "execution_count": 1,
   "id": "developing-recommendation",
   "metadata": {},
   "outputs": [],
   "source": [
    "import numpy as np, seaborn as sns, matplotlib.pyplot as plt, pandas as pd\n",
    "\n",
    "## cargamos la data\n",
    "data_set = np.load('proyecto_data/proyecto_training_data.npy')\n",
    "\n",
    "## definimos las columnas\n",
    "columns   = ['SalePrice', 'OverallQual', '1stFlrSF', 'TotRmsAbvGrd', 'YearBuilt', 'LotFrontage']\n",
    "\n",
    "## definimos el set de entrenamiento como un DataFrame, obteniendo el 80% del data set completo\n",
    "training_set        = pd.DataFrame(data_set[: int(len(data_set) * 0.8)], columns = columns)\n",
    "                    \n",
    "## definimos el set de pruebas y validación como un DataFrame, obteniendo el 20% del data set completo\n",
    "validation_test_set = pd.DataFrame(data_set[int(len(data_set) * 0.8):], columns = columns)"
   ]
  },
  {
   "cell_type": "code",
   "execution_count": null,
   "id": "after-royalty",
   "metadata": {},
   "outputs": [],
   "source": [
    "%%!\n",
    "git "
   ]
  }
 ],
 "metadata": {
  "kernelspec": {
   "display_name": "Python 3",
   "language": "python",
   "name": "python3"
  },
  "language_info": {
   "codemirror_mode": {
    "name": "ipython",
    "version": 3
   },
   "file_extension": ".py",
   "mimetype": "text/x-python",
   "name": "python",
   "nbconvert_exporter": "python",
   "pygments_lexer": "ipython3",
   "version": "3.8.8"
  }
 },
 "nbformat": 4,
 "nbformat_minor": 5
}
